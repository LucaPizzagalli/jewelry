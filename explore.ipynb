{
 "nbformat": 4,
 "nbformat_minor": 2,
 "metadata": {
  "language_info": {
   "name": "python",
   "codemirror_mode": {
    "name": "ipython",
    "version": 3
   },
   "version": "3.6.9-final"
  },
  "orig_nbformat": 2,
  "file_extension": ".py",
  "mimetype": "text/x-python",
  "name": "python",
  "npconvert_exporter": "python",
  "pygments_lexer": "ipython3",
  "version": 3,
  "kernelspec": {
   "name": "python36964bit9e5e8a9d280b4b2bb10ea6819da89b2a",
   "display_name": "Python 3.6.9 64-bit"
  }
 },
 "cells": [
  {
   "cell_type": "code",
   "execution_count": 3,
   "metadata": {},
   "outputs": [],
   "source": [
    "import glob\n",
    "from IPython.display import Image, display"
   ]
  },
  {
   "cell_type": "code",
   "execution_count": 16,
   "metadata": {},
   "outputs": [
    {
     "output_type": "stream",
     "name": "stdout",
     "text": "silverRingFioriPinkBottom.jpg\nsilverRingFioriYellowBottom.jpg\nsilverRingFioriWhiteBottom.jpg\nsilverRingFiori30Front.jpg\nsilverRingFioriBlackBottom.jpg\n"
    }
   ],
   "source": [
    "for full_filename in glob.glob('images/products/*.jpg'):\n",
    "    filename = full_filename.split('/')[-1]\n",
    "    if 'Fiori' in filename and 'Ring' in filename:\n",
    "        print(filename)"
   ]
  },
  {
   "cell_type": "code",
   "execution_count": 17,
   "metadata": {},
   "outputs": [
    {
     "output_type": "stream",
     "name": "stdout",
     "text": "silverEarringsFiori30YellowCombo.jpg\nsilverEarringsFiori30Side.jpg\nsilverEarringsFiori30BlackCombo.jpg\nsilverEarringsFiori30Front.jpg\nsilverEarringsFiori30Bottom.jpg\nsilverEarringsFiori30WhiteCombo.jpg\nsilverEarringsFiori30PinkCombo.jpg\n"
    }
   ],
   "source": [
    "for full_filename in glob.glob('images/products/*.jpg'):\n",
    "    filename = full_filename.split('/')[-1]\n",
    "    if 'Fiori' in filename and 'Earrings' in filename:\n",
    "        print(filename)"
   ]
  },
  {
   "cell_type": "code",
   "execution_count": null,
   "metadata": {},
   "outputs": [],
   "source": []
  }
 ]
}